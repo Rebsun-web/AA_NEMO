{
 "cells": [
  {
   "cell_type": "code",
   "execution_count": null,
   "id": "0",
   "metadata": {},
   "outputs": [],
   "source": [
    "import pandas as pd\n",
    "import os"
   ]
  },
  {
   "cell_type": "code",
   "execution_count": null,
   "id": "1",
   "metadata": {},
   "outputs": [],
   "source": [
    "file_path = \"../Data_Raw/Tickets_Data\"\n",
    "\n",
    "tables = {}"
   ]
  },
  {
   "cell_type": "code",
   "execution_count": null,
   "id": "2",
   "metadata": {},
   "outputs": [],
   "source": [
    "for file in os.listdir(file_path):\n",
    "    if file.endswith(\".xlsx\"):\n",
    "        file_path_full = os.path.join(file_path, file)\n",
    "        tables[file] = pd.read_excel(file_path_full)"
   ]
  },
  {
   "cell_type": "code",
   "execution_count": null,
   "id": "3",
   "metadata": {},
   "outputs": [],
   "source": [
    "adjusted_tables = tables\n",
    "adjusted_tables[\"2022.xlsx\"].head()"
   ]
  },
  {
   "cell_type": "code",
   "execution_count": null,
   "id": "4",
   "metadata": {},
   "outputs": [],
   "source": [
    "for file_name, df in adjusted_tables.items():\n",
    "    df[\"Datum\"] = df[\"Datum\"].replace(\"-\", pd.NA)\n",
    "    \n",
    "    df['Datum'] = pd.to_datetime(df['Datum'])\n",
    "    df['Date'] = df['Datum'].dt.date\n",
    "    df['Hour'] = df['Datum'].dt.hour\n",
    "\n",
    "    df = df[(df['Hour'] >= 10) & (df['Hour'] <= 17)]\n",
    "\n",
    "    adjusted_tables[file_name] = df"
   ]
  },
  {
   "cell_type": "code",
   "execution_count": null,
   "id": "5",
   "metadata": {},
   "outputs": [],
   "source": [
    "visitors_per_day = {}\n",
    "combined_pivot_table = pd.DataFrame()\n",
    "\n",
    "for file_name, df in adjusted_tables.items():\n",
    "    visitors_per_day_group = df.groupby(['Date', 'Bezoekersgroep'])['Bezoekers'].sum().reset_index()\n",
    "    pivot_table = visitors_per_day_group.pivot(index='Date', \n",
    "                                              columns='Bezoekersgroep', \n",
    "                                              values='Bezoekers').fillna(0)\n",
    "                                              \n",
    "    pivot_table = pivot_table.astype(int)\n",
    "\n",
    "    pivot_table['Total'] = pivot_table.sum(axis=1)\n",
    "    \n",
    "    combined_pivot_table = pd.concat([combined_pivot_table, pivot_table])\n",
    "    visitors_per_day[file_name] = pivot_table"
   ]
  },
  {
   "cell_type": "markdown",
   "id": "6",
   "metadata": {},
   "source": [
    "# Appended Table"
   ]
  },
  {
   "cell_type": "code",
   "execution_count": null,
   "id": "7",
   "metadata": {},
   "outputs": [],
   "source": [
    "combined_pivot_table = combined_pivot_table.sort_values(\"Date\")"
   ]
  },
  {
   "cell_type": "code",
   "execution_count": null,
   "id": "8",
   "metadata": {},
   "outputs": [],
   "source": [
    "cleaned_data_path = \"../../Data_Sources/Data_Cleaned/Visitors\"\n",
    "\n",
    "# Create the target directory if it doesn't exist\n",
    "os.makedirs(cleaned_data_path, exist_ok=True)\n",
    "\n",
    "# Save the DataFrame to the target directory\n",
    "output_file = os.path.join(cleaned_data_path, \"entrance_data_cleaned.csv\")\n",
    "combined_pivot_table.to_csv(output_file, index=True)"
   ]
  },
  {
   "cell_type": "markdown",
   "id": "9",
   "metadata": {},
   "source": [
    "# Hourly attendance"
   ]
  },
  {
   "cell_type": "code",
   "execution_count": null,
   "id": "10",
   "metadata": {},
   "outputs": [],
   "source": [
    "visitors_per_hour = {}\n",
    "combined_hourly_table = pd.DataFrame()\n",
    "\n",
    "for file_name, df in adjusted_tables.items():\n",
    "    visitors_per_hour_group = df.groupby(['Date', 'Hour'])['Bezoekers'].sum().reset_index()\n",
    "\n",
    "    pivot_table = visitors_per_hour_group.pivot(index='Date', \n",
    "                                              columns='Hour', \n",
    "                                              values='Bezoekers').fillna(0)\n",
    "    pivot_table[\"Total\"] = pivot_table.sum(axis=1)\n",
    "    pivot_table = pivot_table.astype(int)\n",
    "\n",
    "    pivot_table = pivot_table.reset_index()\n",
    "    \n",
    "    combined_hourly_table = pd.concat([combined_hourly_table, pivot_table])\n",
    "\n",
    "    visitors_per_hour[file_name] = pivot_table"
   ]
  },
  {
   "cell_type": "code",
   "execution_count": null,
   "id": "11",
   "metadata": {},
   "outputs": [],
   "source": [
    "combined_hourly_table = combined_hourly_table.sort_values(\"Date\")"
   ]
  },
  {
   "cell_type": "code",
   "execution_count": null,
   "id": "12",
   "metadata": {},
   "outputs": [],
   "source": [
    "combined_hourly_table"
   ]
  },
  {
   "cell_type": "code",
   "execution_count": null,
   "id": "13",
   "metadata": {},
   "outputs": [],
   "source": [
    "combined_hourly_table['Date'] = pd.to_datetime(combined_hourly_table['Date'])\n",
    "combined_hourly_table['Year'] = combined_hourly_table['Date'].dt.year\n",
    "combined_hourly_table['Weekday'] = combined_hourly_table['Date'].dt.day_name()\n",
    "combined_hourly_table"
   ]
  },
  {
   "cell_type": "code",
   "execution_count": null,
   "id": "14",
   "metadata": {},
   "outputs": [],
   "source": [
    "# First, get a list of all columns in the dataframe\n",
    "all_columns = combined_hourly_table.columns.tolist()\n",
    "\n",
    "# Filter for hour columns (those that are numeric and end with .0)\n",
    "hour_columns = []\n",
    "for col in all_columns:\n",
    "    if isinstance(col, (int, float)) or (isinstance(col, str) and col.replace('.', '').isdigit()):\n",
    "        if isinstance(col, str) and col.endswith('.0') or isinstance(col, (int, float)):\n",
    "            hour_columns.append(col)\n",
    "\n",
    "# Group by Year and Weekday, then calculate average visitors for each hour\n",
    "agg_dict = {col: 'mean' for col in hour_columns}\n",
    "if 'Total' in all_columns:\n",
    "    agg_dict['Total'] = 'mean'  # Add Total column to aggregation\n",
    "\n",
    "hourly_avg_by_year_weekday = combined_hourly_table.groupby(['Year', 'Weekday']).agg(agg_dict).reset_index()\n",
    "\n",
    "# Round the values to make them more readable\n",
    "numeric_columns = hour_columns.copy()\n",
    "if 'Total' in all_columns:\n",
    "    numeric_columns.append('Total')\n",
    "hourly_avg_by_year_weekday[numeric_columns] = hourly_avg_by_year_weekday[numeric_columns].round(1)\n",
    "\n",
    "# Sort by Year and a custom weekday order\n",
    "weekday_order = ['Monday', 'Tuesday', 'Wednesday', 'Thursday', 'Friday', 'Saturday', 'Sunday']\n",
    "hourly_avg_by_year_weekday['Weekday_order'] = hourly_avg_by_year_weekday['Weekday'].map({day: i for i, day in enumerate(weekday_order)})\n",
    "hourly_avg_by_year_weekday = hourly_avg_by_year_weekday.sort_values(['Year', 'Weekday_order']).drop('Weekday_order', axis=1)"
   ]
  },
  {
   "cell_type": "code",
   "execution_count": null,
   "id": "15",
   "metadata": {},
   "outputs": [],
   "source": [
    "# Display the result\n",
    "hourly_avg_by_year_weekday.sort_values(by=[\"Weekday\", \"Year\"], ascending=[True, True])"
   ]
  },
  {
   "cell_type": "code",
   "execution_count": null,
   "id": "16",
   "metadata": {},
   "outputs": [],
   "source": [
    "cleaned_data_path = \"../../Data_Sources/Data_Cleaned/Visitors\"\n",
    "\n",
    "# Create the target directory if it doesn't exist\n",
    "os.makedirs(cleaned_data_path, exist_ok=True)\n",
    "\n",
    "# Save the DataFrame to the target directory\n",
    "output_file = os.path.join(cleaned_data_path, \"hourly_visitors.csv\")\n",
    "hourly_avg_by_year_weekday.to_csv(output_file, index=False)"
   ]
  },
  {
   "cell_type": "code",
   "execution_count": null,
   "id": "17",
   "metadata": {},
   "outputs": [],
   "source": [
    "import matplotlib.pyplot as plt\n",
    "import seaborn as sns\n",
    "import pandas as pd\n",
    "import numpy as np\n",
    "\n",
    "# Reshape the data for plotting\n",
    "# First, create a copy of the dataframe\n",
    "plot_data = hourly_avg_by_year_weekday.copy()\n",
    "\n",
    "# Get hour columns for plotting\n",
    "hour_cols = [col for col in plot_data.columns if col not in ['Hour', 'Year', 'Weekday', 'Total']]\n",
    "\n",
    "# Melt the dataframe to get it in the right format for plotting\n",
    "melted_data = pd.melt(\n",
    "    plot_data, \n",
    "    id_vars=['Year', 'Weekday'], \n",
    "    value_vars=hour_cols,\n",
    "    var_name='Hour', \n",
    "    value_name='Visitors'\n",
    ")\n",
    "\n",
    "# Convert hour column to numeric (remove the .0 suffix)\n",
    "melted_data['Hour'] = melted_data['Hour'].astype(float)\n",
    "\n",
    "# Set up the plot style\n",
    "plt.figure(figsize=(16, 10))\n",
    "sns.set_style(\"darkgrid\")\n",
    "\n",
    "# Create custom weekday order\n",
    "weekday_order = ['Monday', 'Tuesday', 'Wednesday', 'Thursday', 'Friday', 'Saturday', 'Sunday']\n",
    "\n",
    "# Create facet grid by weekday and year\n",
    "g = sns.FacetGrid(\n",
    "    melted_data, \n",
    "    col='Weekday', \n",
    "    row='Year',\n",
    "    col_order=weekday_order,\n",
    "    row_order=[2022, 2023, 2024, 2025],\n",
    "    height=3, \n",
    "    aspect=1.2\n",
    ")\n",
    "\n",
    "# Plot the hourly distribution for each weekday and year\n",
    "g.map_dataframe(\n",
    "    sns.lineplot, \n",
    "    x='Hour', \n",
    "    y='Visitors', \n",
    "    marker='o'\n",
    ")\n",
    "\n",
    "# Add titles and labels\n",
    "g.set_axis_labels('Hour of Day', 'Average Number of Visitors')\n",
    "g.set_titles('Year: {row_name} | {col_name}')\n",
    "\n",
    "# Adjust the layout\n",
    "plt.tight_layout()\n",
    "plt.subplots_adjust(top=0.9)\n",
    "plt.suptitle('Average Hourly Visitor Distribution by Year and Weekday', fontsize=16)\n",
    "\n",
    "# Show the plot\n",
    "plt.show()\n",
    "\n",
    "# Additional visualization: Heatmap of total visitors by year and weekday\n",
    "plt.figure(figsize=(12, 8))\n",
    "pivot_data = plot_data.pivot(index='Weekday', columns='Year', values='Total')\n",
    "pivot_data = pivot_data.reindex(weekday_order)  # Reorder weekdays\n",
    "\n",
    "# Create heatmap\n",
    "sns.heatmap(pivot_data, annot=True, fmt='.1f', cmap='YlOrRd', linewidths=.5)\n",
    "plt.title('Total Average Daily Visitors by Year and Weekday', fontsize=14)\n",
    "plt.tight_layout()\n",
    "plt.show()"
   ]
  },
  {
   "cell_type": "markdown",
   "id": "18",
   "metadata": {},
   "source": [
    "# Add all days to the combined entrance"
   ]
  },
  {
   "cell_type": "code",
   "execution_count": null,
   "id": "19",
   "metadata": {},
   "outputs": [],
   "source": [
    "df = pd.read_csv(\"../Data_Cleaned/Visitors/entrance_data_cleaned.csv\")"
   ]
  },
  {
   "cell_type": "code",
   "execution_count": null,
   "id": "20",
   "metadata": {},
   "outputs": [],
   "source": [
    "df = df.dropna()"
   ]
  },
  {
   "cell_type": "code",
   "execution_count": null,
   "id": "21",
   "metadata": {},
   "outputs": [],
   "source": [
    "df"
   ]
  },
  {
   "cell_type": "code",
   "execution_count": null,
   "id": "22",
   "metadata": {},
   "outputs": [],
   "source": [
    "# Convert Date column to datetime\n",
    "df['Date'] = pd.to_datetime(df['Date'])\n",
    "\n",
    "# Get the first and last date in the dataset\n",
    "start_date = df['Date'].min()\n",
    "end_date = df['Date'].max()\n",
    "\n",
    "# Create a complete date range\n",
    "date_range = pd.date_range(start=start_date, end=end_date)\n",
    "\n",
    "# Create a new DataFrame with the complete date range\n",
    "complete_df = pd.DataFrame({'Date': date_range})\n",
    "\n",
    "# Merge with the original data\n",
    "filled_df = pd.merge(complete_df, df, on='Date', how='left')\n",
    "\n",
    "# Fill NaN values with 0\n",
    "columns_to_fill = ['Extern', 'PO', 'Recreatief Buitenland', 'Recreatief NL', 'Student', 'VO', 'Total']\n",
    "filled_df[columns_to_fill] = filled_df[columns_to_fill].fillna(0).astype(int)\n",
    "\n",
    "# Sort by date\n",
    "filled_df = filled_df.sort_values('Date')"
   ]
  },
  {
   "cell_type": "code",
   "execution_count": null,
   "id": "23",
   "metadata": {},
   "outputs": [],
   "source": [
    "cleaned_data_path = \"../../Data_Sources/Data_Cleaned/Visitors\"\n",
    "\n",
    "# Create the target directory if it doesn't exist\n",
    "os.makedirs(cleaned_data_path, exist_ok=True)\n",
    "\n",
    "# Save the DataFrame to the target directory\n",
    "output_file = os.path.join(cleaned_data_path, \"entrance_data_cleaned.csv\")\n",
    "filled_df.to_csv(output_file, index=False)"
   ]
  }
 ],
 "metadata": {
  "kernelspec": {
   "display_name": ".venv",
   "language": "python",
   "name": "python3"
  },
  "language_info": {
   "codemirror_mode": {
    "name": "ipython",
    "version": 3
   },
   "file_extension": ".py",
   "mimetype": "text/x-python",
   "name": "python",
   "nbconvert_exporter": "python",
   "pygments_lexer": "ipython3",
   "version": "3.11.4"
  }
 },
 "nbformat": 4,
 "nbformat_minor": 5
}
