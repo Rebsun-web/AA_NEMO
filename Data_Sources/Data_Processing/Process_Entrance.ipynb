{
 "cells": [
  {
   "cell_type": "code",
   "execution_count": 2,
   "id": "0",
   "metadata": {},
   "outputs": [],
   "source": [
    "import os\n",
    "import pandas as pd"
   ]
  },
  {
   "cell_type": "code",
   "execution_count": 3,
   "id": "1",
   "metadata": {},
   "outputs": [],
   "source": [
    "file_path = \"../Data_Raw/Tickets_Data\"\n",
    "tables = {}"
   ]
  },
  {
   "cell_type": "code",
   "execution_count": 4,
   "id": "2",
   "metadata": {},
   "outputs": [],
   "source": [
    "# Load all Excel files in the directory\n",
    "for file in os.listdir(file_path):\n",
    "    if file.endswith(\".xlsx\"):\n",
    "        file_path_full = os.path.join(file_path, file)\n",
    "        tables[file] = pd.read_excel(file_path_full)"
   ]
  },
  {
   "cell_type": "code",
   "execution_count": 5,
   "id": "3",
   "metadata": {},
   "outputs": [
    {
     "data": {
      "text/html": [
       "<div>\n",
       "<style scoped>\n",
       "    .dataframe tbody tr th:only-of-type {\n",
       "        vertical-align: middle;\n",
       "    }\n",
       "\n",
       "    .dataframe tbody tr th {\n",
       "        vertical-align: top;\n",
       "    }\n",
       "\n",
       "    .dataframe thead th {\n",
       "        text-align: right;\n",
       "    }\n",
       "</style>\n",
       "<table border=\"1\" class=\"dataframe\">\n",
       "  <thead>\n",
       "    <tr style=\"text-align: right;\">\n",
       "      <th></th>\n",
       "      <th>Datum</th>\n",
       "      <th>Bezoekers</th>\n",
       "      <th>Omzet Elli</th>\n",
       "      <th>Gem. Omzet</th>\n",
       "      <th>Artikel</th>\n",
       "      <th>Bezoekersgroep</th>\n",
       "    </tr>\n",
       "  </thead>\n",
       "  <tbody>\n",
       "    <tr>\n",
       "      <th>0</th>\n",
       "      <td>2022-01-26 10:02:01.930000</td>\n",
       "      <td>1</td>\n",
       "      <td>19.724771</td>\n",
       "      <td>19.724771</td>\n",
       "      <td>NEMO e-ticket age 4-12 GT</td>\n",
       "      <td>Recreatief Buitenland</td>\n",
       "    </tr>\n",
       "    <tr>\n",
       "      <th>1</th>\n",
       "      <td>2022-01-26 10:02:03.353000</td>\n",
       "      <td>1</td>\n",
       "      <td>19.724771</td>\n",
       "      <td>19.724771</td>\n",
       "      <td>NEMO e-ticket age 4-12 GT</td>\n",
       "      <td>Recreatief Buitenland</td>\n",
       "    </tr>\n",
       "    <tr>\n",
       "      <th>2</th>\n",
       "      <td>2022-01-26 10:02:03.853000</td>\n",
       "      <td>1</td>\n",
       "      <td>19.724771</td>\n",
       "      <td>19.724771</td>\n",
       "      <td>NEMO e-ticket age 4-12 GT</td>\n",
       "      <td>Recreatief Buitenland</td>\n",
       "    </tr>\n",
       "    <tr>\n",
       "      <th>3</th>\n",
       "      <td>2022-01-26 10:02:05.010000</td>\n",
       "      <td>1</td>\n",
       "      <td>19.724771</td>\n",
       "      <td>19.724771</td>\n",
       "      <td>NEMO e-ticket adult GT</td>\n",
       "      <td>Recreatief Buitenland</td>\n",
       "    </tr>\n",
       "    <tr>\n",
       "      <th>4</th>\n",
       "      <td>2022-01-26 10:02:32.803000</td>\n",
       "      <td>1</td>\n",
       "      <td>19.724771</td>\n",
       "      <td>19.724771</td>\n",
       "      <td>NEMO e-ticket 4-12 jaar GT</td>\n",
       "      <td>Recreatief NL</td>\n",
       "    </tr>\n",
       "  </tbody>\n",
       "</table>\n",
       "</div>"
      ],
      "text/plain": [
       "                        Datum  Bezoekers  Omzet Elli Gem. Omzet  \\\n",
       "0  2022-01-26 10:02:01.930000          1   19.724771  19.724771   \n",
       "1  2022-01-26 10:02:03.353000          1   19.724771  19.724771   \n",
       "2  2022-01-26 10:02:03.853000          1   19.724771  19.724771   \n",
       "3  2022-01-26 10:02:05.010000          1   19.724771  19.724771   \n",
       "4  2022-01-26 10:02:32.803000          1   19.724771  19.724771   \n",
       "\n",
       "                      Artikel         Bezoekersgroep  \n",
       "0   NEMO e-ticket age 4-12 GT  Recreatief Buitenland  \n",
       "1   NEMO e-ticket age 4-12 GT  Recreatief Buitenland  \n",
       "2   NEMO e-ticket age 4-12 GT  Recreatief Buitenland  \n",
       "3      NEMO e-ticket adult GT  Recreatief Buitenland  \n",
       "4  NEMO e-ticket 4-12 jaar GT          Recreatief NL  "
      ]
     },
     "execution_count": 5,
     "metadata": {},
     "output_type": "execute_result"
    }
   ],
   "source": [
    "adjusted_tables = tables\n",
    "adjusted_tables[\"2022.xlsx\"].head()"
   ]
  },
  {
   "cell_type": "code",
   "execution_count": 6,
   "id": "4",
   "metadata": {},
   "outputs": [],
   "source": [
    "# Clean and engineer features for each table\n",
    "for file_name, df in adjusted_tables.items():\n",
    "    df[\"Datum\"] = df[\"Datum\"].replace(\"-\", pd.NA)\n",
    "    df['Datum'] = pd.to_datetime(df['Datum'])\n",
    "    df['Date'] = df['Datum'].dt.date\n",
    "    df['Hour'] = df['Datum'].dt.hour\n",
    "    df = df[(df['Hour'] >= 10) & (df['Hour'] <= 17)]\n",
    "    adjusted_tables[file_name] = df"
   ]
  },
  {
   "cell_type": "code",
   "execution_count": 7,
   "id": "5",
   "metadata": {},
   "outputs": [],
   "source": [
    "# Aggregate visitors per day and group\n",
    "visitors_per_day = {}\n",
    "combined_pivot_table = pd.DataFrame()\n",
    "\n",
    "for file_name, df in adjusted_tables.items():\n",
    "    visitors_per_day_group = df.groupby(['Date', 'Bezoekersgroep'])['Bezoekers'].sum().reset_index()\n",
    "    pivot_table = visitors_per_day_group.pivot(\n",
    "        index='Date',\n",
    "        columns='Bezoekersgroep',\n",
    "        values='Bezoekers'\n",
    "    ).fillna(0)\n",
    "    pivot_table = pivot_table.astype(int)\n",
    "    pivot_table['Total'] = pivot_table.sum(axis=1)\n",
    "    combined_pivot_table = pd.concat([combined_pivot_table, pivot_table])\n",
    "    visitors_per_day[file_name] = pivot_table"
   ]
  },
  {
   "cell_type": "markdown",
   "id": "6",
   "metadata": {},
   "source": [
    "# Appended Table"
   ]
  },
  {
   "cell_type": "code",
   "execution_count": 8,
   "id": "7",
   "metadata": {},
   "outputs": [],
   "source": [
    "combined_pivot_table = combined_pivot_table.sort_values(\"Date\")"
   ]
  },
  {
   "cell_type": "code",
   "execution_count": 9,
   "id": "8",
   "metadata": {},
   "outputs": [],
   "source": [
    "cleaned_data_path = \"../../Data_Sources/Data_Modelling/Visitors\"\n",
    "os.makedirs(cleaned_data_path, exist_ok=True)\n",
    "output_file = os.path.join(cleaned_data_path, \"entrance_data_cleaned.csv\")\n",
    "combined_pivot_table.to_csv(output_file, index=True)"
   ]
  },
  {
   "cell_type": "markdown",
   "id": "9",
   "metadata": {},
   "source": [
    "# Hourly attendance"
   ]
  },
  {
   "cell_type": "code",
   "execution_count": 10,
   "id": "10",
   "metadata": {},
   "outputs": [],
   "source": [
    "# Hourly attendance\n",
    "visitors_per_hour = {}\n",
    "combined_hourly_table = pd.DataFrame()\n",
    "\n",
    "for file_name, df in adjusted_tables.items():\n",
    "    visitors_per_hour_group = df.groupby(['Date', 'Hour'])['Bezoekers'].sum().reset_index()\n",
    "    pivot_table = visitors_per_hour_group.pivot(\n",
    "        index='Date',\n",
    "        columns='Hour',\n",
    "        values='Bezoekers'\n",
    "    ).fillna(0)\n",
    "    pivot_table[\"Total\"] = pivot_table.sum(axis=1)\n",
    "    pivot_table = pivot_table.astype(int)\n",
    "    pivot_table = pivot_table.reset_index()\n",
    "    combined_hourly_table = pd.concat([combined_hourly_table, pivot_table])\n",
    "    visitors_per_hour[file_name] = pivot_table"
   ]
  },
  {
   "cell_type": "code",
   "execution_count": 11,
   "id": "11",
   "metadata": {},
   "outputs": [],
   "source": [
    "combined_hourly_table = combined_hourly_table.sort_values(\"Date\")"
   ]
  },
  {
   "cell_type": "code",
   "execution_count": 12,
   "id": "13",
   "metadata": {},
   "outputs": [],
   "source": [
    "combined_hourly_table['Date'] = pd.to_datetime(combined_hourly_table['Date'])\n",
    "combined_hourly_table['Year'] = combined_hourly_table['Date'].dt.year\n",
    "combined_hourly_table['Weekday'] = combined_hourly_table['Date'].dt.day_name()"
   ]
  },
  {
   "cell_type": "code",
   "execution_count": 13,
   "id": "14",
   "metadata": {},
   "outputs": [],
   "source": [
    "# Calculate hourly averages by year and weekday\n",
    "all_columns = combined_hourly_table.columns.tolist()\n",
    "hour_columns = []\n",
    "for col in all_columns:\n",
    "    if isinstance(col, (int, float)) or (isinstance(col, str) and col.replace('.', '').isdigit()):\n",
    "        if (isinstance(col, str) and col.endswith('.0')) or isinstance(col, (int, float)):\n",
    "            hour_columns.append(col)\n",
    "\n",
    "agg_dict = {col: 'mean' for col in hour_columns}\n",
    "if 'Total' in all_columns:\n",
    "    agg_dict['Total'] = 'mean'\n",
    "\n",
    "hourly_avg_by_year_weekday = combined_hourly_table.groupby(\n",
    "    ['Year', 'Weekday']\n",
    ").agg(agg_dict).reset_index()\n",
    "\n",
    "numeric_columns = hour_columns.copy()\n",
    "if 'Total' in all_columns:\n",
    "    numeric_columns.append('Total')\n",
    "hourly_avg_by_year_weekday[numeric_columns] = hourly_avg_by_year_weekday[numeric_columns].round(1)\n",
    "\n",
    "weekday_order = ['Monday', 'Tuesday', 'Wednesday', 'Thursday', 'Friday', 'Saturday', 'Sunday']\n",
    "hourly_avg_by_year_weekday['Weekday_order'] = hourly_avg_by_year_weekday['Weekday'].map(\n",
    "    {day: i for i, day in enumerate(weekday_order)}\n",
    ")\n",
    "hourly_avg_by_year_weekday = hourly_avg_by_year_weekday.sort_values(\n",
    "    ['Year', 'Weekday_order']\n",
    ").drop('Weekday_order', axis=1)\n",
    "\n",
    "# Save hourly averages\n",
    "output_file = os.path.join(cleaned_data_path, \"hourly_visitors.csv\")\n",
    "hourly_avg_by_year_weekday.to_csv(output_file, index=False)"
   ]
  },
  {
   "cell_type": "markdown",
   "id": "18",
   "metadata": {},
   "source": [
    "# Add all days to the combined entrance"
   ]
  },
  {
   "cell_type": "code",
   "execution_count": 14,
   "id": "22",
   "metadata": {},
   "outputs": [],
   "source": [
    "# Fill missing days in entrance data with zeros\n",
    "df = pd.read_csv(\"../Data_Modelling/Visitors/entrance_data_cleaned.csv\")\n",
    "df = df.dropna()\n",
    "df['Date'] = pd.to_datetime(df['Date'])\n",
    "start_date = df['Date'].min()\n",
    "end_date = df['Date'].max()\n",
    "date_range = pd.date_range(start=start_date, end=end_date)\n",
    "complete_df = pd.DataFrame({'Date': date_range})\n",
    "filled_df = pd.merge(complete_df, df, on='Date', how='left')\n",
    "columns_to_fill = [\n",
    "    'Extern', 'PO', 'Recreatief Buitenland', 'Recreatief NL', 'Student', 'VO', 'Total'\n",
    "]\n",
    "filled_df[columns_to_fill] = filled_df[columns_to_fill].fillna(0).astype(int)\n",
    "filled_df = filled_df.sort_values('Date')\n",
    "output_file = os.path.join(cleaned_data_path, \"entrance_data_cleaned.csv\")\n",
    "filled_df.to_csv(output_file, index=False)"
   ]
  }
 ],
 "metadata": {
  "kernelspec": {
   "display_name": ".venv",
   "language": "python",
   "name": "python3"
  },
  "language_info": {
   "codemirror_mode": {
    "name": "ipython",
    "version": 3
   },
   "file_extension": ".py",
   "mimetype": "text/x-python",
   "name": "python",
   "nbconvert_exporter": "python",
   "pygments_lexer": "ipython3",
   "version": "3.11.4"
  }
 },
 "nbformat": 4,
 "nbformat_minor": 5
}
