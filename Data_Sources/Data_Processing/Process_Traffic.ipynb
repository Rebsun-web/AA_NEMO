{
 "cells": [
  {
   "cell_type": "code",
   "execution_count": 1,
   "id": "0",
   "metadata": {},
   "outputs": [],
   "source": [
    "import os\n",
    "import pandas as pd"
   ]
  },
  {
   "cell_type": "markdown",
   "id": "1",
   "metadata": {},
   "source": [
    "# Manual download"
   ]
  },
  {
   "cell_type": "markdown",
   "id": "2",
   "metadata": {},
   "source": [
    "we need the ASD station"
   ]
  },
  {
   "cell_type": "code",
   "execution_count": 2,
   "id": "4",
   "metadata": {},
   "outputs": [],
   "source": [
    "def process_traffic_file(file_path):\n",
    "    \"\"\"\n",
    "    Complete pipeline for processing traffic files.\n",
    "    Cleans numeric columns, parses dates, and selects important columns.\n",
    "    \"\"\"\n",
    "    # Read the CSV\n",
    "    df = pd.read_csv(file_path, on_bad_lines='skip')\n",
    "\n",
    "    # Clean numeric columns\n",
    "    numeric_columns = [\"duration_minutes\"]\n",
    "    for col in numeric_columns:\n",
    "        if col in df.columns:\n",
    "            df[col] = df[col].astype(str).str.replace(r'[^\\d.-]', '', regex=True)\n",
    "            df[col] = pd.to_numeric(df[col], errors='coerce').fillna(0)\n",
    "\n",
    "    # Parse datetime\n",
    "    if \"start_time\" in df.columns:\n",
    "        df[\"start_time\"] = pd.to_datetime(df[\"start_time\"], errors='coerce')\n",
    "        df[\"start_time_date\"] = df[\"start_time\"].dt.date\n",
    "\n",
    "    # Select important columns\n",
    "    important_columns = [\n",
    "        \"rdt_station_codes\", \"cause_en\", \"cause_group\", \"start_time_date\", \"duration_minutes\"\n",
    "    ]\n",
    "    available_columns = [col for col in important_columns if col in df.columns]\n",
    "    return df[available_columns]"
   ]
  },
  {
   "cell_type": "code",
   "execution_count": 3,
   "id": "5",
   "metadata": {},
   "outputs": [
    {
     "name": "stdout",
     "output_type": "stream",
     "text": [
      "Processing: disruptions-2022.csv\n",
      "Processing: disruptions-2023.csv\n",
      "Processing: disruptions-2024.csv\n"
     ]
    }
   ],
   "source": [
    "directory_path = \"../Data_Raw/Traffic/\"\n",
    "csv_files = [f for f in os.listdir(directory_path) if f.endswith('.csv')]\n",
    "\n",
    "combined_df = pd.DataFrame()\n",
    "for file in csv_files:\n",
    "    file_path = os.path.join(directory_path, file)\n",
    "    print(f\"Processing: {file}\")\n",
    "    df = process_traffic_file(file_path)\n",
    "    df['source_file'] = file\n",
    "    combined_df = pd.concat([combined_df, df], ignore_index=True)"
   ]
  },
  {
   "cell_type": "code",
   "execution_count": 4,
   "id": "9",
   "metadata": {},
   "outputs": [],
   "source": [
    "# Filter for ASD station\n",
    "filtered_df = combined_df[combined_df['rdt_station_codes'].str.contains('ASD', na=False)]\n",
    "\n",
    "# Save cleaned data\n",
    "cleaned_data_path = \"../../Data_Sources/Data_Modelling/Traffic/\"\n",
    "os.makedirs(cleaned_data_path, exist_ok=True)\n",
    "output_file = os.path.join(cleaned_data_path, \"disruptions_data_historical.csv\")\n",
    "filtered_df.to_csv(output_file, index=False)"
   ]
  }
 ],
 "metadata": {
  "kernelspec": {
   "display_name": ".venv",
   "language": "python",
   "name": "python3"
  },
  "language_info": {
   "codemirror_mode": {
    "name": "ipython",
    "version": 3
   },
   "file_extension": ".py",
   "mimetype": "text/x-python",
   "name": "python",
   "nbconvert_exporter": "python",
   "pygments_lexer": "ipython3",
   "version": "3.11.13"
  }
 },
 "nbformat": 4,
 "nbformat_minor": 5
}
